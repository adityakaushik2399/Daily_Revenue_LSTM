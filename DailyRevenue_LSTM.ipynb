{
 "cells": [
  {
   "cell_type": "code",
   "execution_count": 1,
   "id": "821183d0-6717-45c6-b89d-671e3461495d",
   "metadata": {},
   "outputs": [
    {
     "name": "stderr",
     "output_type": "stream",
     "text": [
      "2024-01-12 16:05:56.074945: I tensorflow/core/util/port.cc:110] oneDNN custom operations are on. You may see slightly different numerical results due to floating-point round-off errors from different computation orders. To turn them off, set the environment variable `TF_ENABLE_ONEDNN_OPTS=0`.\n",
      "2024-01-12 16:05:56.101820: I tensorflow/core/platform/cpu_feature_guard.cc:182] This TensorFlow binary is optimized to use available CPU instructions in performance-critical operations.\n",
      "To enable the following instructions: AVX2 AVX_VNNI FMA, in other operations, rebuild TensorFlow with the appropriate compiler flags.\n",
      "2024-01-12 16:05:56.482946: W tensorflow/compiler/tf2tensorrt/utils/py_utils.cc:38] TF-TRT Warning: Could not find TensorRT\n"
     ]
    },
    {
     "data": {
      "text/html": [
       "<div>\n",
       "<style scoped>\n",
       "    .dataframe tbody tr th:only-of-type {\n",
       "        vertical-align: middle;\n",
       "    }\n",
       "\n",
       "    .dataframe tbody tr th {\n",
       "        vertical-align: top;\n",
       "    }\n",
       "\n",
       "    .dataframe thead th {\n",
       "        text-align: right;\n",
       "    }\n",
       "</style>\n",
       "<table border=\"1\" class=\"dataframe\">\n",
       "  <thead>\n",
       "    <tr style=\"text-align: right;\">\n",
       "      <th></th>\n",
       "      <th>Unnamed: 0</th>\n",
       "      <th>date</th>\n",
       "      <th>revenue</th>\n",
       "      <th>discount_rate</th>\n",
       "      <th>coupon_rate</th>\n",
       "    </tr>\n",
       "  </thead>\n",
       "  <tbody>\n",
       "    <tr>\n",
       "      <th>0</th>\n",
       "      <td>1</td>\n",
       "      <td>01/01/18</td>\n",
       "      <td>6270839</td>\n",
       "      <td>34.27%</td>\n",
       "      <td>1.09%</td>\n",
       "    </tr>\n",
       "    <tr>\n",
       "      <th>1</th>\n",
       "      <td>2</td>\n",
       "      <td>02/01/18</td>\n",
       "      <td>8922076</td>\n",
       "      <td>30.87%</td>\n",
       "      <td>1.08%</td>\n",
       "    </tr>\n",
       "    <tr>\n",
       "      <th>2</th>\n",
       "      <td>3</td>\n",
       "      <td>03/01/18</td>\n",
       "      <td>8446101</td>\n",
       "      <td>28.11%</td>\n",
       "      <td>1.01%</td>\n",
       "    </tr>\n",
       "    <tr>\n",
       "      <th>3</th>\n",
       "      <td>4</td>\n",
       "      <td>04/01/18</td>\n",
       "      <td>7785798</td>\n",
       "      <td>27.32%</td>\n",
       "      <td>0.96%</td>\n",
       "    </tr>\n",
       "    <tr>\n",
       "      <th>4</th>\n",
       "      <td>5</td>\n",
       "      <td>05/01/18</td>\n",
       "      <td>6375303</td>\n",
       "      <td>25.70%</td>\n",
       "      <td>0.90%</td>\n",
       "    </tr>\n",
       "  </tbody>\n",
       "</table>\n",
       "</div>"
      ],
      "text/plain": [
       "   Unnamed: 0      date  revenue discount_rate coupon_rate\n",
       "0           1  01/01/18  6270839        34.27%       1.09%\n",
       "1           2  02/01/18  8922076        30.87%       1.08%\n",
       "2           3  03/01/18  8446101        28.11%       1.01%\n",
       "3           4  04/01/18  7785798        27.32%       0.96%\n",
       "4           5  05/01/18  6375303        25.70%       0.90%"
      ]
     },
     "execution_count": 1,
     "metadata": {},
     "output_type": "execute_result"
    }
   ],
   "source": [
    "# Importing the libraries\n",
    "import pandas as pd\n",
    "import numpy as np\n",
    "import matplotlib.pyplot as plt\n",
    "import tensorflow as tf\n",
    "import keras\n",
    "from tensorflow.keras.models import Sequential\n",
    "from tensorflow.keras.layers import LSTM\n",
    "from tensorflow.keras.layers import Dense, Dropout\n",
    "import keras_tuner\n",
    "from keras import layers\n",
    "\n",
    "# Fetching the data\n",
    "data = pd.read_csv('daily_revenue.csv', sep='\\t')\n",
    "data.head()"
   ]
  },
  {
   "cell_type": "code",
   "execution_count": 2,
   "id": "ee14f663-ca8a-489f-9efc-b79df0518f48",
   "metadata": {},
   "outputs": [
    {
     "name": "stderr",
     "output_type": "stream",
     "text": [
      "/tmp/ipykernel_15749/1040822924.py:5: UserWarning: The argument 'infer_datetime_format' is deprecated and will be removed in a future version. A strict version of it is now the default, see https://pandas.pydata.org/pdeps/0004-consistent-to-datetime-parsing.html. You can safely remove this argument.\n",
      "  dt = pd.to_datetime(data['date'], infer_datetime_format=True)\n",
      "/tmp/ipykernel_15749/1040822924.py:5: UserWarning: Could not infer format, so each element will be parsed individually, falling back to `dateutil`. To ensure parsing is consistent and as-expected, please specify a format.\n",
      "  dt = pd.to_datetime(data['date'], infer_datetime_format=True)\n"
     ]
    }
   ],
   "source": [
    "# Dropping the  \"Unnamed: 0\" column\n",
    "data.drop('Unnamed: 0', axis=1, inplace=True)\n",
    "\n",
    "# Converting the \"date\" column to a datetime column\n",
    "dt = pd.to_datetime(data['date'], infer_datetime_format=True)"
   ]
  },
  {
   "cell_type": "code",
   "execution_count": 3,
   "id": "2f1813ed-10eb-4f11-913e-f066d99140cf",
   "metadata": {},
   "outputs": [
    {
     "data": {
      "text/plain": [
       "0      2018-01-01\n",
       "1      2018-02-01\n",
       "2      2018-03-01\n",
       "3      2018-04-01\n",
       "4      2018-05-01\n",
       "          ...    \n",
       "1790   2022-11-26\n",
       "1791   2022-11-27\n",
       "1792   2022-11-28\n",
       "1793   2022-11-29\n",
       "1794   2022-11-30\n",
       "Name: date, Length: 1795, dtype: datetime64[ns]"
      ]
     },
     "execution_count": 3,
     "metadata": {},
     "output_type": "execute_result"
    }
   ],
   "source": [
    "dt"
   ]
  },
  {
   "cell_type": "code",
   "execution_count": 4,
   "id": "0205a98c-5f43-408e-a095-e2870acba796",
   "metadata": {},
   "outputs": [
    {
     "data": {
      "text/html": [
       "<div>\n",
       "<style scoped>\n",
       "    .dataframe tbody tr th:only-of-type {\n",
       "        vertical-align: middle;\n",
       "    }\n",
       "\n",
       "    .dataframe tbody tr th {\n",
       "        vertical-align: top;\n",
       "    }\n",
       "\n",
       "    .dataframe thead th {\n",
       "        text-align: right;\n",
       "    }\n",
       "</style>\n",
       "<table border=\"1\" class=\"dataframe\">\n",
       "  <thead>\n",
       "    <tr style=\"text-align: right;\">\n",
       "      <th></th>\n",
       "      <th>discount_rate</th>\n",
       "      <th>coupon_rate</th>\n",
       "      <th>revenue</th>\n",
       "    </tr>\n",
       "    <tr>\n",
       "      <th>date</th>\n",
       "      <th></th>\n",
       "      <th></th>\n",
       "      <th></th>\n",
       "    </tr>\n",
       "  </thead>\n",
       "  <tbody>\n",
       "    <tr>\n",
       "      <th>2018-01-01</th>\n",
       "      <td>34.27%</td>\n",
       "      <td>1.09%</td>\n",
       "      <td>6270839</td>\n",
       "    </tr>\n",
       "    <tr>\n",
       "      <th>2018-02-01</th>\n",
       "      <td>30.87%</td>\n",
       "      <td>1.08%</td>\n",
       "      <td>8922076</td>\n",
       "    </tr>\n",
       "    <tr>\n",
       "      <th>2018-03-01</th>\n",
       "      <td>28.11%</td>\n",
       "      <td>1.01%</td>\n",
       "      <td>8446101</td>\n",
       "    </tr>\n",
       "    <tr>\n",
       "      <th>2018-04-01</th>\n",
       "      <td>27.32%</td>\n",
       "      <td>0.96%</td>\n",
       "      <td>7785798</td>\n",
       "    </tr>\n",
       "    <tr>\n",
       "      <th>2018-05-01</th>\n",
       "      <td>25.70%</td>\n",
       "      <td>0.90%</td>\n",
       "      <td>6375303</td>\n",
       "    </tr>\n",
       "  </tbody>\n",
       "</table>\n",
       "</div>"
      ],
      "text/plain": [
       "           discount_rate coupon_rate  revenue\n",
       "date                                         \n",
       "2018-01-01        34.27%       1.09%  6270839\n",
       "2018-02-01        30.87%       1.08%  8922076\n",
       "2018-03-01        28.11%       1.01%  8446101\n",
       "2018-04-01        27.32%       0.96%  7785798\n",
       "2018-05-01        25.70%       0.90%  6375303"
      ]
     },
     "execution_count": 4,
     "metadata": {},
     "output_type": "execute_result"
    }
   ],
   "source": [
    "# Joining the 2 dataframes\n",
    "data = pd.concat([dt, data[[ 'discount_rate', 'coupon_rate', 'revenue']]], axis=1)\n",
    "data.set_index(['date'], inplace=True)\n",
    "data.head()"
   ]
  },
  {
   "cell_type": "code",
   "execution_count": 5,
   "id": "b9e00245-7b25-4108-9024-3a65f4ac192a",
   "metadata": {},
   "outputs": [
    {
     "data": {
      "text/html": [
       "<div>\n",
       "<style scoped>\n",
       "    .dataframe tbody tr th:only-of-type {\n",
       "        vertical-align: middle;\n",
       "    }\n",
       "\n",
       "    .dataframe tbody tr th {\n",
       "        vertical-align: top;\n",
       "    }\n",
       "\n",
       "    .dataframe thead th {\n",
       "        text-align: right;\n",
       "    }\n",
       "</style>\n",
       "<table border=\"1\" class=\"dataframe\">\n",
       "  <thead>\n",
       "    <tr style=\"text-align: right;\">\n",
       "      <th></th>\n",
       "      <th>discount_rate</th>\n",
       "      <th>coupon_rate</th>\n",
       "      <th>revenue</th>\n",
       "    </tr>\n",
       "    <tr>\n",
       "      <th>date</th>\n",
       "      <th></th>\n",
       "      <th></th>\n",
       "      <th></th>\n",
       "    </tr>\n",
       "  </thead>\n",
       "  <tbody>\n",
       "    <tr>\n",
       "      <th>2018-01-01</th>\n",
       "      <td>0.3427</td>\n",
       "      <td>0.0109</td>\n",
       "      <td>6270839</td>\n",
       "    </tr>\n",
       "    <tr>\n",
       "      <th>2018-02-01</th>\n",
       "      <td>0.3087</td>\n",
       "      <td>0.0108</td>\n",
       "      <td>8922076</td>\n",
       "    </tr>\n",
       "    <tr>\n",
       "      <th>2018-03-01</th>\n",
       "      <td>0.2811</td>\n",
       "      <td>0.0101</td>\n",
       "      <td>8446101</td>\n",
       "    </tr>\n",
       "    <tr>\n",
       "      <th>2018-04-01</th>\n",
       "      <td>0.2732</td>\n",
       "      <td>0.0096</td>\n",
       "      <td>7785798</td>\n",
       "    </tr>\n",
       "    <tr>\n",
       "      <th>2018-05-01</th>\n",
       "      <td>0.2570</td>\n",
       "      <td>0.0090</td>\n",
       "      <td>6375303</td>\n",
       "    </tr>\n",
       "  </tbody>\n",
       "</table>\n",
       "</div>"
      ],
      "text/plain": [
       "            discount_rate  coupon_rate  revenue\n",
       "date                                           \n",
       "2018-01-01         0.3427       0.0109  6270839\n",
       "2018-02-01         0.3087       0.0108  8922076\n",
       "2018-03-01         0.2811       0.0101  8446101\n",
       "2018-04-01         0.2732       0.0096  7785798\n",
       "2018-05-01         0.2570       0.0090  6375303"
      ]
     },
     "execution_count": 5,
     "metadata": {},
     "output_type": "execute_result"
    }
   ],
   "source": [
    "# Replacing the \"%\" from \"discount_rate\" and \"revenue\" columns\n",
    "# Converting the values to integer and float values\n",
    "data['discount_rate'] = data['discount_rate'].str.replace('%','')\n",
    "data['coupon_rate'] = data['coupon_rate'].str.replace('%','')\n",
    "convert_dict = {'revenue': int,\n",
    "                'discount_rate': float,\n",
    "                'coupon_rate' : float\n",
    "                }\n",
    "data = data.astype(convert_dict)\n",
    "data['discount_rate'] = data['discount_rate'] / 100\n",
    "data['coupon_rate'] = data['coupon_rate'] / 100\n",
    "data.head()"
   ]
  },
  {
   "cell_type": "code",
   "execution_count": 6,
   "id": "71746c86-a128-4b03-a513-7985d554550e",
   "metadata": {},
   "outputs": [
    {
     "data": {
      "text/html": [
       "<div>\n",
       "<style scoped>\n",
       "    .dataframe tbody tr th:only-of-type {\n",
       "        vertical-align: middle;\n",
       "    }\n",
       "\n",
       "    .dataframe tbody tr th {\n",
       "        vertical-align: top;\n",
       "    }\n",
       "\n",
       "    .dataframe thead th {\n",
       "        text-align: right;\n",
       "    }\n",
       "</style>\n",
       "<table border=\"1\" class=\"dataframe\">\n",
       "  <thead>\n",
       "    <tr style=\"text-align: right;\">\n",
       "      <th></th>\n",
       "      <th>0</th>\n",
       "      <th>1</th>\n",
       "      <th>2</th>\n",
       "    </tr>\n",
       "  </thead>\n",
       "  <tbody>\n",
       "    <tr>\n",
       "      <th>0</th>\n",
       "      <td>0.033234</td>\n",
       "      <td>1.000000</td>\n",
       "      <td>0.082204</td>\n",
       "    </tr>\n",
       "    <tr>\n",
       "      <th>1</th>\n",
       "      <td>0.069186</td>\n",
       "      <td>0.870919</td>\n",
       "      <td>0.081301</td>\n",
       "    </tr>\n",
       "    <tr>\n",
       "      <th>2</th>\n",
       "      <td>0.062732</td>\n",
       "      <td>0.766135</td>\n",
       "      <td>0.074977</td>\n",
       "    </tr>\n",
       "    <tr>\n",
       "      <th>3</th>\n",
       "      <td>0.053778</td>\n",
       "      <td>0.736143</td>\n",
       "      <td>0.070461</td>\n",
       "    </tr>\n",
       "    <tr>\n",
       "      <th>4</th>\n",
       "      <td>0.034650</td>\n",
       "      <td>0.674639</td>\n",
       "      <td>0.065041</td>\n",
       "    </tr>\n",
       "  </tbody>\n",
       "</table>\n",
       "</div>"
      ],
      "text/plain": [
       "          0         1         2\n",
       "0  0.033234  1.000000  0.082204\n",
       "1  0.069186  0.870919  0.081301\n",
       "2  0.062732  0.766135  0.074977\n",
       "3  0.053778  0.736143  0.070461\n",
       "4  0.034650  0.674639  0.065041"
      ]
     },
     "execution_count": 6,
     "metadata": {},
     "output_type": "execute_result"
    }
   ],
   "source": [
    "# Normalising the values\n",
    "from sklearn.preprocessing import MinMaxScaler\n",
    "scaler = MinMaxScaler()\n",
    "scaler = scaler.fit(data[['revenue', 'discount_rate', 'coupon_rate']])\n",
    "data = scaler.transform(data[['revenue', 'discount_rate', 'coupon_rate']])\n",
    "\n",
    "data = pd.DataFrame(data)\n",
    "data.head()"
   ]
  },
  {
   "cell_type": "code",
   "execution_count": 7,
   "id": "022ec902-cab3-4dd1-9c87-56cd345188b3",
   "metadata": {},
   "outputs": [],
   "source": [
    "# Splitting the dataframe into train/test\n",
    "df_test = data.tail(359)\n",
    "df_train = data.head(1436)\n",
    "\n",
    "# Setting the metric for calculation\n",
    "from sklearn.metrics import mean_absolute_error"
   ]
  },
  {
   "cell_type": "code",
   "execution_count": 8,
   "id": "08cf24f4-a402-4fed-a481-7bcce51ba060",
   "metadata": {},
   "outputs": [
    {
     "name": "stdout",
     "output_type": "stream",
     "text": [
      "trainX shape == (1377, 30, 2).\n",
      "trainY shape == (1377, 30).\n"
     ]
    }
   ],
   "source": [
    "# Creating the dataset in the proper format\n",
    "n_future = 30  # Number of days we want to look into the future based on the past days.\n",
    "trainX = []\n",
    "trainY = []\n",
    "n_past = 30  # Number of past days we want to use to predict the future.\n",
    "for i in range(n_past, len(df_train) - n_future + 1):\n",
    "    dt = df_train.values\n",
    "    dt = dt.astype('float32')\n",
    "    trainX.append(dt[i - n_past:i, 0:dt.shape[1] - 1])\n",
    "    trainY.append(dt[i - n_past:i, -1])\n",
    "\n",
    "trainX, trainY = np.array(trainX), np.array(trainY)\n",
    "\n",
    "print('trainX shape == {}.'.format(trainX.shape))\n",
    "print('trainY shape == {}.'.format(trainY.shape))"
   ]
  },
  {
   "cell_type": "code",
   "execution_count": 9,
   "id": "e5022fbe-3377-4780-9ddb-2f6fd783d4ce",
   "metadata": {},
   "outputs": [
    {
     "name": "stdout",
     "output_type": "stream",
     "text": [
      "testX shape == (300, 30, 2).\n",
      "testY shape == (300, 30).\n"
     ]
    }
   ],
   "source": [
    "testX = []\n",
    "testY = []\n",
    "\n",
    "for i in range(n_past, len(df_test) - n_future + 1):\n",
    "    dt = df_test.values\n",
    "    dt = dt.astype('float32')\n",
    "    testX.append(dt[i - n_past:i, 0:dt.shape[1] - 1])\n",
    "    testY.append(dt[i - n_past:i, -1])\n",
    "\n",
    "testX, testY = np.array(testX), np.array(testY)\n",
    "\n",
    "print('testX shape == {}.'.format(testX.shape))\n",
    "print('testY shape == {}.'.format(testY.shape))"
   ]
  },
  {
   "cell_type": "code",
   "execution_count": 10,
   "id": "2f042d0b-681c-4375-9f59-8d2de63a60c8",
   "metadata": {},
   "outputs": [
    {
     "name": "stdout",
     "output_type": "stream",
     "text": [
      "WARNING:tensorflow:Layer lstm will not use cuDNN kernels since it doesn't meet the criteria. It will use a generic GPU kernel as fallback when running on GPU.\n"
     ]
    },
    {
     "name": "stderr",
     "output_type": "stream",
     "text": [
      "2024-01-12 16:05:57.137835: I tensorflow/compiler/xla/stream_executor/cuda/cuda_gpu_executor.cc:995] successful NUMA node read from SysFS had negative value (-1), but there must be at least one NUMA node, so returning NUMA node zero. See more at https://github.com/torvalds/linux/blob/v6.0/Documentation/ABI/testing/sysfs-bus-pci#L344-L355\n",
      "2024-01-12 16:05:57.153290: I tensorflow/compiler/xla/stream_executor/cuda/cuda_gpu_executor.cc:995] successful NUMA node read from SysFS had negative value (-1), but there must be at least one NUMA node, so returning NUMA node zero. See more at https://github.com/torvalds/linux/blob/v6.0/Documentation/ABI/testing/sysfs-bus-pci#L344-L355\n",
      "2024-01-12 16:05:57.153417: I tensorflow/compiler/xla/stream_executor/cuda/cuda_gpu_executor.cc:995] successful NUMA node read from SysFS had negative value (-1), but there must be at least one NUMA node, so returning NUMA node zero. See more at https://github.com/torvalds/linux/blob/v6.0/Documentation/ABI/testing/sysfs-bus-pci#L344-L355\n",
      "2024-01-12 16:05:57.154406: I tensorflow/compiler/xla/stream_executor/cuda/cuda_gpu_executor.cc:995] successful NUMA node read from SysFS had negative value (-1), but there must be at least one NUMA node, so returning NUMA node zero. See more at https://github.com/torvalds/linux/blob/v6.0/Documentation/ABI/testing/sysfs-bus-pci#L344-L355\n",
      "2024-01-12 16:05:57.154499: I tensorflow/compiler/xla/stream_executor/cuda/cuda_gpu_executor.cc:995] successful NUMA node read from SysFS had negative value (-1), but there must be at least one NUMA node, so returning NUMA node zero. See more at https://github.com/torvalds/linux/blob/v6.0/Documentation/ABI/testing/sysfs-bus-pci#L344-L355\n",
      "2024-01-12 16:05:57.154561: I tensorflow/compiler/xla/stream_executor/cuda/cuda_gpu_executor.cc:995] successful NUMA node read from SysFS had negative value (-1), but there must be at least one NUMA node, so returning NUMA node zero. See more at https://github.com/torvalds/linux/blob/v6.0/Documentation/ABI/testing/sysfs-bus-pci#L344-L355\n",
      "2024-01-12 16:05:57.201915: I tensorflow/compiler/xla/stream_executor/cuda/cuda_gpu_executor.cc:995] successful NUMA node read from SysFS had negative value (-1), but there must be at least one NUMA node, so returning NUMA node zero. See more at https://github.com/torvalds/linux/blob/v6.0/Documentation/ABI/testing/sysfs-bus-pci#L344-L355\n",
      "2024-01-12 16:05:57.202034: I tensorflow/compiler/xla/stream_executor/cuda/cuda_gpu_executor.cc:995] successful NUMA node read from SysFS had negative value (-1), but there must be at least one NUMA node, so returning NUMA node zero. See more at https://github.com/torvalds/linux/blob/v6.0/Documentation/ABI/testing/sysfs-bus-pci#L344-L355\n",
      "2024-01-12 16:05:57.202104: I tensorflow/compiler/xla/stream_executor/cuda/cuda_gpu_executor.cc:995] successful NUMA node read from SysFS had negative value (-1), but there must be at least one NUMA node, so returning NUMA node zero. See more at https://github.com/torvalds/linux/blob/v6.0/Documentation/ABI/testing/sysfs-bus-pci#L344-L355\n",
      "2024-01-12 16:05:57.202164: I tensorflow/core/common_runtime/gpu/gpu_device.cc:1639] Created device /job:localhost/replica:0/task:0/device:GPU:0 with 2100 MB memory:  -> device: 0, name: NVIDIA GeForce RTX 3050 Laptop GPU, pci bus id: 0000:01:00.0, compute capability: 8.6\n"
     ]
    },
    {
     "name": "stdout",
     "output_type": "stream",
     "text": [
      "Model: \"sequential\"\n",
      "_________________________________________________________________\n",
      " Layer (type)                Output Shape              Param #   \n",
      "=================================================================\n",
      " lstm (LSTM)                 (None, 30, 16)            1216      \n",
      "                                                                 \n",
      " dense (Dense)               (None, 30, 1)             17        \n",
      "                                                                 \n",
      "=================================================================\n",
      "Total params: 1233 (4.82 KB)\n",
      "Trainable params: 1233 (4.82 KB)\n",
      "Non-trainable params: 0 (0.00 Byte)\n",
      "_________________________________________________________________\n",
      "Epoch 1/100\n"
     ]
    },
    {
     "name": "stderr",
     "output_type": "stream",
     "text": [
      "2024-01-12 16:05:57.928615: I tensorflow/compiler/xla/stream_executor/cuda/cuda_blas.cc:606] TensorFloat-32 will be used for the matrix multiplication. This will only be logged once.\n",
      "2024-01-12 16:05:57.951511: I tensorflow/compiler/xla/service/service.cc:168] XLA service 0x7f285c66c790 initialized for platform CUDA (this does not guarantee that XLA will be used). Devices:\n",
      "2024-01-12 16:05:57.951529: I tensorflow/compiler/xla/service/service.cc:176]   StreamExecutor device (0): NVIDIA GeForce RTX 3050 Laptop GPU, Compute Capability 8.6\n",
      "2024-01-12 16:05:57.954110: I tensorflow/compiler/mlir/tensorflow/utils/dump_mlir_util.cc:255] disabling MLIR crash reproducer, set env var `MLIR_CRASH_REPRODUCER_DIRECTORY` to enable.\n",
      "2024-01-12 16:05:57.962548: I tensorflow/compiler/xla/stream_executor/cuda/cuda_dnn.cc:432] Loaded cuDNN version 8600\n",
      "2024-01-12 16:05:57.994024: I tensorflow/tsl/platform/default/subprocess.cc:304] Start cannot spawn child process: No such file or directory\n",
      "2024-01-12 16:05:58.024530: I ./tensorflow/compiler/jit/device_compiler.h:186] Compiled cluster using XLA!  This line is logged at most once for the lifetime of the process.\n"
     ]
    },
    {
     "name": "stdout",
     "output_type": "stream",
     "text": [
      "28/28 [==============================] - 1s 20ms/step - loss: 0.4454 - val_loss: 0.4206\n",
      "Epoch 2/100\n",
      "28/28 [==============================] - 0s 14ms/step - loss: 0.4230 - val_loss: 0.3857\n",
      "Epoch 3/100\n",
      "28/28 [==============================] - 0s 16ms/step - loss: 0.2875 - val_loss: 0.1361\n",
      "Epoch 4/100\n",
      "28/28 [==============================] - 0s 14ms/step - loss: 0.1173 - val_loss: 0.1075\n",
      "Epoch 5/100\n",
      "28/28 [==============================] - 0s 16ms/step - loss: 0.1004 - val_loss: 0.1001\n",
      "Epoch 6/100\n",
      "28/28 [==============================] - 0s 16ms/step - loss: 0.0935 - val_loss: 0.0956\n",
      "Epoch 7/100\n",
      "28/28 [==============================] - 0s 15ms/step - loss: 0.0888 - val_loss: 0.0920\n",
      "Epoch 8/100\n",
      "28/28 [==============================] - 0s 15ms/step - loss: 0.0848 - val_loss: 0.0891\n",
      "Epoch 9/100\n",
      "28/28 [==============================] - 0s 17ms/step - loss: 0.0814 - val_loss: 0.0865\n",
      "Epoch 10/100\n",
      "28/28 [==============================] - 0s 15ms/step - loss: 0.0785 - val_loss: 0.0843\n",
      "Epoch 11/100\n",
      "28/28 [==============================] - 0s 16ms/step - loss: 0.0761 - val_loss: 0.0824\n",
      "Epoch 12/100\n",
      "28/28 [==============================] - 0s 15ms/step - loss: 0.0740 - val_loss: 0.0810\n",
      "Epoch 13/100\n",
      "28/28 [==============================] - 0s 15ms/step - loss: 0.0725 - val_loss: 0.0798\n",
      "Epoch 14/100\n",
      "28/28 [==============================] - 0s 18ms/step - loss: 0.0711 - val_loss: 0.0787\n",
      "Epoch 15/100\n",
      "28/28 [==============================] - 0s 17ms/step - loss: 0.0698 - val_loss: 0.0778\n",
      "Epoch 16/100\n",
      "28/28 [==============================] - 0s 17ms/step - loss: 0.0688 - val_loss: 0.0771\n",
      "Epoch 17/100\n",
      "28/28 [==============================] - 0s 16ms/step - loss: 0.0680 - val_loss: 0.0765\n",
      "Epoch 18/100\n",
      "28/28 [==============================] - 0s 16ms/step - loss: 0.0674 - val_loss: 0.0760\n",
      "Epoch 19/100\n",
      "28/28 [==============================] - 0s 17ms/step - loss: 0.0668 - val_loss: 0.0754\n",
      "Epoch 20/100\n",
      "28/28 [==============================] - 0s 17ms/step - loss: 0.0661 - val_loss: 0.0749\n",
      "Epoch 21/100\n",
      "28/28 [==============================] - 0s 15ms/step - loss: 0.0655 - val_loss: 0.0743\n",
      "Epoch 22/100\n",
      "28/28 [==============================] - 0s 17ms/step - loss: 0.0649 - val_loss: 0.0738\n",
      "Epoch 23/100\n",
      "28/28 [==============================] - 0s 16ms/step - loss: 0.0643 - val_loss: 0.0734\n",
      "Epoch 24/100\n",
      "28/28 [==============================] - 0s 17ms/step - loss: 0.0638 - val_loss: 0.0730\n",
      "Epoch 25/100\n",
      "28/28 [==============================] - 0s 14ms/step - loss: 0.0634 - val_loss: 0.0727\n",
      "Epoch 26/100\n",
      "28/28 [==============================] - 0s 15ms/step - loss: 0.0630 - val_loss: 0.0724\n",
      "Epoch 27/100\n",
      "28/28 [==============================] - 1s 19ms/step - loss: 0.0627 - val_loss: 0.0722\n",
      "Epoch 28/100\n",
      "28/28 [==============================] - 0s 15ms/step - loss: 0.0625 - val_loss: 0.0720\n",
      "Epoch 29/100\n",
      "28/28 [==============================] - 0s 16ms/step - loss: 0.0622 - val_loss: 0.0718\n",
      "Epoch 30/100\n",
      "28/28 [==============================] - 0s 17ms/step - loss: 0.0620 - val_loss: 0.0717\n",
      "Epoch 31/100\n",
      "28/28 [==============================] - 0s 15ms/step - loss: 0.0618 - val_loss: 0.0715\n",
      "Epoch 32/100\n",
      "28/28 [==============================] - 0s 15ms/step - loss: 0.0616 - val_loss: 0.0714\n",
      "Epoch 33/100\n",
      "28/28 [==============================] - 0s 16ms/step - loss: 0.0614 - val_loss: 0.0712\n",
      "Epoch 34/100\n",
      "28/28 [==============================] - 0s 15ms/step - loss: 0.0612 - val_loss: 0.0710\n",
      "Epoch 35/100\n",
      "28/28 [==============================] - 0s 15ms/step - loss: 0.0610 - val_loss: 0.0709\n",
      "Epoch 36/100\n",
      "28/28 [==============================] - 0s 18ms/step - loss: 0.0608 - val_loss: 0.0707\n",
      "Epoch 37/100\n",
      "28/28 [==============================] - 0s 16ms/step - loss: 0.0606 - val_loss: 0.0705\n",
      "Epoch 38/100\n",
      "28/28 [==============================] - 0s 16ms/step - loss: 0.0603 - val_loss: 0.0703\n",
      "Epoch 39/100\n",
      "28/28 [==============================] - 0s 17ms/step - loss: 0.0974 - val_loss: 0.0701\n",
      "Epoch 40/100\n",
      "28/28 [==============================] - 0s 16ms/step - loss: 0.0599 - val_loss: 0.0700\n",
      "Epoch 41/100\n",
      "28/28 [==============================] - 0s 16ms/step - loss: 0.0598 - val_loss: 0.0700\n",
      "Epoch 42/100\n",
      "28/28 [==============================] - 0s 16ms/step - loss: 0.0597 - val_loss: 0.0699\n",
      "Epoch 43/100\n",
      "28/28 [==============================] - 0s 15ms/step - loss: 0.0597 - val_loss: 0.0698\n",
      "Epoch 44/100\n",
      "28/28 [==============================] - 0s 16ms/step - loss: 0.0596 - val_loss: 0.0698\n",
      "Epoch 45/100\n",
      "28/28 [==============================] - 0s 15ms/step - loss: 0.0595 - val_loss: 0.0697\n",
      "Epoch 46/100\n",
      "28/28 [==============================] - 0s 17ms/step - loss: 0.0594 - val_loss: 0.0697\n",
      "Epoch 47/100\n",
      "28/28 [==============================] - 0s 15ms/step - loss: 0.0593 - val_loss: 0.0696\n",
      "Epoch 48/100\n",
      "28/28 [==============================] - 0s 17ms/step - loss: 0.0592 - val_loss: 0.0695\n",
      "Epoch 49/100\n",
      "28/28 [==============================] - 0s 16ms/step - loss: 0.0592 - val_loss: 0.0695\n",
      "Epoch 50/100\n",
      "28/28 [==============================] - 0s 15ms/step - loss: 0.0591 - val_loss: 0.0694\n",
      "Epoch 51/100\n",
      "28/28 [==============================] - 0s 14ms/step - loss: 0.0590 - val_loss: 0.0694\n",
      "Epoch 52/100\n",
      "28/28 [==============================] - 0s 16ms/step - loss: 0.0589 - val_loss: 0.0693\n",
      "Epoch 53/100\n",
      "28/28 [==============================] - 0s 17ms/step - loss: 0.0588 - val_loss: 0.0693\n",
      "Epoch 54/100\n",
      "28/28 [==============================] - 0s 17ms/step - loss: 0.0588 - val_loss: 0.0692\n",
      "Epoch 55/100\n",
      "28/28 [==============================] - 0s 14ms/step - loss: 0.0587 - val_loss: 0.0692\n",
      "Epoch 56/100\n",
      "28/28 [==============================] - 1s 18ms/step - loss: 0.0586 - val_loss: 0.0691\n",
      "Epoch 57/100\n",
      "28/28 [==============================] - 0s 16ms/step - loss: 0.0585 - val_loss: 0.0691\n",
      "Epoch 58/100\n",
      "28/28 [==============================] - 0s 15ms/step - loss: 0.0585 - val_loss: 0.0690\n",
      "Epoch 59/100\n",
      "28/28 [==============================] - 0s 14ms/step - loss: 0.0584 - val_loss: 0.0690\n",
      "Epoch 60/100\n",
      "28/28 [==============================] - 0s 15ms/step - loss: 0.0583 - val_loss: 0.0689\n",
      "Epoch 61/100\n",
      "28/28 [==============================] - 0s 16ms/step - loss: 0.0583 - val_loss: 0.0689\n",
      "Epoch 62/100\n",
      "28/28 [==============================] - 0s 16ms/step - loss: 0.0582 - val_loss: 0.0688\n",
      "Epoch 63/100\n",
      "28/28 [==============================] - 0s 16ms/step - loss: 0.0581 - val_loss: 0.0688\n",
      "Epoch 64/100\n",
      "28/28 [==============================] - 0s 15ms/step - loss: 0.0581 - val_loss: 0.0687\n",
      "Epoch 65/100\n",
      "28/28 [==============================] - 0s 17ms/step - loss: 0.0580 - val_loss: 0.0687\n",
      "Epoch 66/100\n",
      "28/28 [==============================] - 1s 20ms/step - loss: 0.0579 - val_loss: 0.0687\n",
      "Epoch 67/100\n",
      "28/28 [==============================] - 0s 15ms/step - loss: 0.0579 - val_loss: 0.0686\n",
      "Epoch 68/100\n",
      "28/28 [==============================] - 0s 15ms/step - loss: 0.0578 - val_loss: 0.0686\n",
      "Epoch 69/100\n",
      "28/28 [==============================] - 0s 15ms/step - loss: 0.0578 - val_loss: 0.0686\n",
      "Epoch 70/100\n",
      "28/28 [==============================] - 0s 17ms/step - loss: 0.0577 - val_loss: 0.0685\n",
      "Epoch 71/100\n",
      "28/28 [==============================] - 0s 15ms/step - loss: 0.0577 - val_loss: 0.0685\n",
      "Epoch 72/100\n",
      "28/28 [==============================] - 0s 14ms/step - loss: 0.0576 - val_loss: 0.0685\n",
      "Epoch 73/100\n",
      "28/28 [==============================] - 0s 18ms/step - loss: 0.0576 - val_loss: 0.0684\n",
      "Epoch 74/100\n",
      "28/28 [==============================] - 0s 17ms/step - loss: 0.0575 - val_loss: 0.0684\n",
      "Epoch 75/100\n",
      "28/28 [==============================] - 1s 18ms/step - loss: 0.0575 - val_loss: 0.0684\n",
      "Epoch 76/100\n",
      "28/28 [==============================] - 0s 15ms/step - loss: 0.0574 - val_loss: 0.0683\n",
      "Epoch 77/100\n",
      "28/28 [==============================] - 0s 17ms/step - loss: 0.0574 - val_loss: 0.0683\n",
      "Epoch 78/100\n",
      "28/28 [==============================] - 0s 15ms/step - loss: 0.0574 - val_loss: 0.0683\n",
      "Epoch 79/100\n",
      "28/28 [==============================] - 0s 15ms/step - loss: 0.0573 - val_loss: 0.0683\n",
      "Epoch 80/100\n",
      "28/28 [==============================] - 0s 16ms/step - loss: 0.0573 - val_loss: 0.0683\n",
      "Epoch 81/100\n",
      "28/28 [==============================] - 0s 16ms/step - loss: 0.0573 - val_loss: 0.0682\n",
      "Epoch 82/100\n",
      "28/28 [==============================] - 0s 17ms/step - loss: 0.0572 - val_loss: 0.0682\n",
      "Epoch 83/100\n",
      "28/28 [==============================] - 0s 16ms/step - loss: 0.0572 - val_loss: 0.0682\n",
      "Epoch 84/100\n",
      "28/28 [==============================] - 0s 14ms/step - loss: 0.0572 - val_loss: 0.0682\n",
      "Epoch 85/100\n",
      "28/28 [==============================] - 0s 16ms/step - loss: 0.0571 - val_loss: 0.0682\n",
      "Epoch 86/100\n",
      "28/28 [==============================] - 0s 18ms/step - loss: 0.0571 - val_loss: 0.0682\n",
      "Epoch 87/100\n",
      "28/28 [==============================] - 0s 16ms/step - loss: 0.0571 - val_loss: 0.0681\n",
      "Epoch 88/100\n",
      "28/28 [==============================] - 0s 16ms/step - loss: 0.0571 - val_loss: 0.0681\n",
      "Epoch 89/100\n",
      "28/28 [==============================] - 0s 14ms/step - loss: 0.0570 - val_loss: 0.0681\n",
      "Epoch 90/100\n",
      "28/28 [==============================] - 0s 14ms/step - loss: 0.0570 - val_loss: 0.0681\n",
      "Epoch 91/100\n",
      "28/28 [==============================] - 0s 17ms/step - loss: 0.0570 - val_loss: 0.0681\n",
      "Epoch 92/100\n",
      "28/28 [==============================] - 0s 16ms/step - loss: 0.0570 - val_loss: 0.0681\n",
      "Epoch 93/100\n",
      "28/28 [==============================] - 0s 15ms/step - loss: 0.0570 - val_loss: 0.0681\n",
      "Epoch 94/100\n",
      "28/28 [==============================] - 0s 16ms/step - loss: 0.0570 - val_loss: 0.0681\n",
      "Epoch 95/100\n",
      "28/28 [==============================] - 0s 15ms/step - loss: 0.0569 - val_loss: 0.0680\n",
      "Epoch 96/100\n",
      "28/28 [==============================] - 0s 16ms/step - loss: 0.0569 - val_loss: 0.0680\n",
      "Epoch 97/100\n",
      "28/28 [==============================] - 0s 16ms/step - loss: 0.0569 - val_loss: 0.0680\n",
      "Epoch 98/100\n",
      "28/28 [==============================] - 0s 16ms/step - loss: 0.0569 - val_loss: 0.0680\n",
      "Epoch 99/100\n",
      "28/28 [==============================] - 0s 16ms/step - loss: 0.0569 - val_loss: 0.0680\n",
      "Epoch 100/100\n",
      "28/28 [==============================] - 0s 16ms/step - loss: 0.0569 - val_loss: 0.0680\n"
     ]
    }
   ],
   "source": [
    "# Building the model\n",
    "model = tf.keras.models.Sequential([tf.keras.layers.LSTM(units=16, activation='relu', input_shape=(trainX.shape[1], trainX.shape[2]), return_sequences=True),\n",
    "                                   tf.keras.layers.Dense(1, activation='sigmoid')])\n",
    "model.summary()\n",
    "model.compile(optimizer='Adam', loss=tf.keras.losses.MeanAbsoluteError())\n",
    "epochs_hist = model.fit(trainX, trainY, epochs = 100, batch_size = 50, validation_data=(testX, testY))"
   ]
  },
  {
   "cell_type": "code",
   "execution_count": 11,
   "id": "07903959-e1b2-4079-9e7d-df9b906e6d3f",
   "metadata": {},
   "outputs": [
    {
     "data": {
      "image/png": "[encoded data removed]",
      "text/plain": [
       "<Figure size 640x480 with 1 Axes>"
      ]
     },
     "metadata": {},
     "output_type": "display_data"
    }
   ],
   "source": [
    "plt.plot(epochs_hist.history['loss'])\n",
    "plt.plot(epochs_hist.history['val_loss'])\n",
    "plt.title('Model Loss Progress During Training')\n",
    "plt.xlabel('Epoch')\n",
    "plt.ylabel('Training and Validation Loss')\n",
    "plt.legend(['Training Loss', 'Validation Loss'])\n",
    "plt.show()"
   ]
  },
  {
   "cell_type": "code",
   "execution_count": 12,
   "id": "4ed16dba-eb53-419c-bbc5-a39d307a0fd5",
   "metadata": {},
   "outputs": [
    {
     "name": "stdout",
     "output_type": "stream",
     "text": [
      "10/10 [==============================] - 0s 5ms/step\n",
      "Mean Absolute Error achieved :  0.06801396\n"
     ]
    }
   ],
   "source": [
    "testPredict = model.predict(testX)\n",
    "testPredict = np.reshape(testPredict, testY.shape)\n",
    "initial_model_error = mean_absolute_error(testY, testPredict)\n",
    "print(\"Mean Absolute Error achieved : \", initial_model_error)"
   ]
  },
  {
   "cell_type": "code",
   "execution_count": 13,
   "id": "f7d0dd1d-387f-43fc-ac1f-e7630d0f5a15",
   "metadata": {},
   "outputs": [
    {
     "name": "stdout",
     "output_type": "stream",
     "text": [
      "Trial 50 Complete [00h 00m 23s]\n",
      "val_loss: 0.05888601144154867\n",
      "\n",
      "Best val_loss So Far: 0.05866657570004463\n",
      "Total elapsed time: 00h 15m 37s\n"
     ]
    }
   ],
   "source": [
    "# Using Hyperparameter Tuning\n",
    "def build_model(hp):\n",
    "    model = keras.Sequential()\n",
    "    dropout_fraction = hp.Choice('rate', values=[0.1, 0.2, 0.3, 0.4, 0.5])\n",
    "    model.add(layers.LSTM(units=hp.Int(\"units\" + str(i), min_value=32, max_value=512, step=32),\n",
    "                          activation=hp.Choice(\"activation\" + str(i), [\"relu\", \"tanh\", \"sigmoid\"]),\n",
    "                          input_shape=(trainX.shape[1], trainX.shape[2]),\n",
    "                          return_sequences=False))\n",
    "    model.add(layers.Dropout(rate=dropout_fraction))\n",
    "    model.add(layers.Dense(trainY.shape[1]))\n",
    "    learning_rate = hp.Choice('learning_rate', values=[1e-2, 1e-3, 1e-4])\n",
    "    model.compile(\n",
    "        optimizer=keras.optimizers.Adam(learning_rate=learning_rate),\n",
    "        loss=tf.keras.losses.mean_absolute_error,\n",
    "    )\n",
    "    return model\n",
    "\n",
    "\n",
    "tuner = keras_tuner.RandomSearch(\n",
    "    hypermodel=build_model,\n",
    "    objective=keras_tuner.Objective(\"val_loss\", direction=\"min\"),\n",
    "    max_trials=50,\n",
    "    executions_per_trial=3,\n",
    "    overwrite=True,\n",
    "    directory=\"Random_Search\",\n",
    "    project_name=\"Daily_Revenue_Time_Series\",\n",
    ")\n",
    "\n",
    "tuner.search(trainX, trainY, epochs=10, validation_data=(testX, testY), verbose=1)"
   ]
  },
  {
   "cell_type": "code",
   "execution_count": 14,
   "id": "e364d1b5-25e2-44b3-a1b4-c68c6b3a0907",
   "metadata": {},
   "outputs": [
    {
     "data": {
      "text/plain": [
       "{'rate': 0.5, 'units329': 320, 'activation329': 'relu', 'learning_rate': 0.01}"
      ]
     },
     "execution_count": 14,
     "metadata": {},
     "output_type": "execute_result"
    }
   ],
   "source": [
    "# Fetching the best set of parameters\n",
    "tuner.get_best_hyperparameters()[0].values"
   ]
  },
  {
   "cell_type": "code",
   "execution_count": 15,
   "id": "3671347d-b956-4eaf-884d-cddafbf7e10e",
   "metadata": {},
   "outputs": [
    {
     "name": "stdout",
     "output_type": "stream",
     "text": [
      "WARNING:tensorflow:Layer lstm will not use cuDNN kernels since it doesn't meet the criteria. It will use a generic GPU kernel as fallback when running on GPU.\n",
      "Epoch 1/20\n",
      "22/22 [==============================] - 1s 22ms/step - loss: 0.0406 - val_loss: 0.0586\n",
      "Epoch 2/20\n",
      "22/22 [==============================] - 0s 16ms/step - loss: 0.0402 - val_loss: 0.0585\n",
      "Epoch 3/20\n",
      "22/22 [==============================] - 0s 19ms/step - loss: 0.0401 - val_loss: 0.0585\n",
      "Epoch 4/20\n",
      "22/22 [==============================] - 0s 19ms/step - loss: 0.0402 - val_loss: 0.0586\n",
      "Epoch 5/20\n",
      "22/22 [==============================] - 0s 16ms/step - loss: 0.0402 - val_loss: 0.0585\n",
      "Epoch 6/20\n",
      "22/22 [==============================] - 0s 17ms/step - loss: 0.0401 - val_loss: 0.0585\n",
      "Epoch 7/20\n",
      "22/22 [==============================] - 0s 18ms/step - loss: 0.0402 - val_loss: 0.0585\n",
      "Epoch 8/20\n",
      "22/22 [==============================] - 0s 15ms/step - loss: 0.0400 - val_loss: 0.0585\n",
      "Epoch 9/20\n",
      "22/22 [==============================] - 0s 19ms/step - loss: 0.0396 - val_loss: 0.0587\n",
      "Epoch 10/20\n",
      "22/22 [==============================] - 0s 17ms/step - loss: 0.0402 - val_loss: 0.0586\n",
      "Epoch 11/20\n",
      "22/22 [==============================] - 0s 19ms/step - loss: 0.0399 - val_loss: 0.0585\n",
      "Epoch 12/20\n",
      "22/22 [==============================] - 0s 18ms/step - loss: 0.0400 - val_loss: 0.0586\n",
      "Epoch 13/20\n",
      "22/22 [==============================] - 0s 17ms/step - loss: 0.0400 - val_loss: 0.0585\n",
      "Epoch 14/20\n",
      "22/22 [==============================] - 0s 17ms/step - loss: 0.0402 - val_loss: 0.0586\n",
      "Epoch 15/20\n",
      "22/22 [==============================] - 0s 16ms/step - loss: 0.0399 - val_loss: 0.0587\n",
      "Epoch 16/20\n",
      "22/22 [==============================] - 0s 18ms/step - loss: 0.0400 - val_loss: 0.0585\n",
      "Epoch 17/20\n",
      "22/22 [==============================] - 0s 19ms/step - loss: 0.0402 - val_loss: 0.0587\n",
      "Epoch 18/20\n",
      "22/22 [==============================] - 0s 16ms/step - loss: 0.0403 - val_loss: 0.0585\n",
      "Epoch 19/20\n",
      "22/22 [==============================] - 0s 15ms/step - loss: 0.0399 - val_loss: 0.0585\n",
      "Epoch 20/20\n",
      "22/22 [==============================] - 0s 16ms/step - loss: 0.0404 - val_loss: 0.0585\n"
     ]
    },
    {
     "data": {
      "text/plain": [
       "<keras.src.callbacks.History at 0x7f291e3e1f40>"
      ]
     },
     "execution_count": 15,
     "metadata": {},
     "output_type": "execute_result"
    }
   ],
   "source": [
    "# Fetching the best model\n",
    "best_model = tuner.get_best_models(num_models=1)[0]\n",
    "\n",
    "# Fitting the best model\n",
    "best_model.fit(trainX, trainY, epochs=20, batch_size=64, validation_data=(testX, testY), verbose=1)"
   ]
  },
  {
   "cell_type": "code",
   "execution_count": 16,
   "id": "e7f6a008-17c7-419c-81ce-59f97ecf80b0",
   "metadata": {},
   "outputs": [
    {
     "name": "stdout",
     "output_type": "stream",
     "text": [
      "10/10 [==============================] - 0s 4ms/step\n",
      "Mean Absolute Error achieved :  0.058491644\n",
      "%age difference b/w the best model and initial model is :  0.1400053\n"
     ]
    }
   ],
   "source": [
    "# Predicting the results with the best model\n",
    "testPredict = best_model.predict(testX)\n",
    "testPredict = np.reshape(testPredict, testY.shape)\n",
    "best_model_error = mean_absolute_error(testY, testPredict)\n",
    "print(\"Mean Absolute Error achieved : \", best_model_error)\n",
    "per_diff = (initial_model_error - best_model_error) / initial_model_error) * 100\n",
    "print(\"%age difference b/w the best model and initial model is : \", per_diff)"
   ]
  },
  {
   "cell_type": "code",
   "execution_count": null,
   "id": "563329ab-d060-4d63-815a-611b38675346",
   "metadata": {},
   "outputs": [],
   "source": [
    "# Saving the Model\n",
    "model.save('daily_revenue_time_series.keras')"
   ]
  }
 ],
 "metadata": {
  "kernelspec": {
   "display_name": "Python 3 (ipykernel)",
   "language": "python",
   "name": "python3"
  },
  "language_info": {
   "codemirror_mode": {
    "name": "ipython",
    "version": 3
   },
   "file_extension": ".py",
   "mimetype": "text/x-python",
   "name": "python",
   "nbconvert_exporter": "python",
   "pygments_lexer": "ipython3",
   "version": "3.9.18"
  }
 },
 "nbformat": 4,
 "nbformat_minor": 5
}
